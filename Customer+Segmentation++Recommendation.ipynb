{
 "cells": [
  {
   "cell_type": "markdown",
   "metadata": {},
   "source": [
    "# Customer Segmentation Recommendation"
   ]
  },
  {
   "cell_type": "markdown",
   "metadata": {},
   "source": [
    "# Dataset : Purchase at Supermarket"
   ]
  },
  {
   "cell_type": "markdown",
   "metadata": {
    "collapsed": true
   },
   "source": [
    "# # Attributes\n",
    "1. Customer_ID\n",
    "2.AVG_Actual_price_12\n",
    "3.Purchase_Value\n",
    "4.No_of_Items\n",
    "5.Total_Discount\n",
    "6.MONTH_SINCE_LAST_TRANSACTION"
   ]
  },
  {
   "cell_type": "markdown",
   "metadata": {},
   "source": [
    "# Problems Definition"
   ]
  },
  {
   "cell_type": "markdown",
   "metadata": {
    "collapsed": true
   },
   "source": [
    "Customer Segmentation and recommendation based on the given attributes"
   ]
  },
  {
   "cell_type": "markdown",
   "metadata": {},
   "source": [
    "# Import Dataset"
   ]
  },
  {
   "cell_type": "code",
   "execution_count": 38,
   "metadata": {
    "collapsed": true
   },
   "outputs": [],
   "source": [
    "import pandas as pd\n",
    "import numpy as np\n",
    "from sklearn import metrics\n",
    "from sklearn.preprocessing import StandardScaler\n",
    "from sklearn.preprocessing import MinMaxScaler\n",
    "import matplotlib.pyplot as plt\n",
    "import seaborn as sns\n",
    "from sklearn.decomposition import PCA\n",
    "from sklearn.cluster import KMeans\n",
    "from sklearn  import cross_validation\n",
    "from sklearn.cross_validation import train_test_split\n",
    "from IPython.core.interactiveshell import InteractiveShell\n",
    "InteractiveShell.ast_node_interactivity = \"all\"\n",
    "%matplotlib inline\n",
    "\n"
   ]
  },
  {
   "cell_type": "code",
   "execution_count": 33,
   "metadata": {},
   "outputs": [
    {
     "data": {
      "text/html": [
       "<div>\n",
       "<style>\n",
       "    .dataframe thead tr:only-child th {\n",
       "        text-align: right;\n",
       "    }\n",
       "\n",
       "    .dataframe thead th {\n",
       "        text-align: left;\n",
       "    }\n",
       "\n",
       "    .dataframe tbody tr th {\n",
       "        vertical-align: top;\n",
       "    }\n",
       "</style>\n",
       "<table border=\"1\" class=\"dataframe\">\n",
       "  <thead>\n",
       "    <tr style=\"text-align: right;\">\n",
       "      <th></th>\n",
       "      <th>Cust_id</th>\n",
       "      <th>AVG_Actual_price_12</th>\n",
       "      <th>Purchase_Value</th>\n",
       "      <th>No_of_Items</th>\n",
       "      <th>Total_Discount</th>\n",
       "      <th>MONTH_SINCE_LAST_TRANSACTION</th>\n",
       "    </tr>\n",
       "  </thead>\n",
       "  <tbody>\n",
       "    <tr>\n",
       "      <th>0</th>\n",
       "      <td>1</td>\n",
       "      <td>300.000000</td>\n",
       "      <td>1200.00</td>\n",
       "      <td>4</td>\n",
       "      <td>0.00</td>\n",
       "      <td>11</td>\n",
       "    </tr>\n",
       "    <tr>\n",
       "      <th>1</th>\n",
       "      <td>2</td>\n",
       "      <td>2563.282500</td>\n",
       "      <td>41012.52</td>\n",
       "      <td>16</td>\n",
       "      <td>78737.48</td>\n",
       "      <td>2</td>\n",
       "    </tr>\n",
       "    <tr>\n",
       "      <th>2</th>\n",
       "      <td>4</td>\n",
       "      <td>3510.000000</td>\n",
       "      <td>7020.00</td>\n",
       "      <td>2</td>\n",
       "      <td>780.00</td>\n",
       "      <td>4</td>\n",
       "    </tr>\n",
       "    <tr>\n",
       "      <th>3</th>\n",
       "      <td>8</td>\n",
       "      <td>4530.000000</td>\n",
       "      <td>13590.00</td>\n",
       "      <td>3</td>\n",
       "      <td>1510.00</td>\n",
       "      <td>1</td>\n",
       "    </tr>\n",
       "    <tr>\n",
       "      <th>4</th>\n",
       "      <td>9</td>\n",
       "      <td>2428.076923</td>\n",
       "      <td>33455.00</td>\n",
       "      <td>15</td>\n",
       "      <td>17445.00</td>\n",
       "      <td>6</td>\n",
       "    </tr>\n",
       "  </tbody>\n",
       "</table>\n",
       "</div>"
      ],
      "text/plain": [
       "   Cust_id  AVG_Actual_price_12  Purchase_Value  No_of_Items  Total_Discount  \\\n",
       "0        1           300.000000         1200.00            4            0.00   \n",
       "1        2          2563.282500        41012.52           16        78737.48   \n",
       "2        4          3510.000000         7020.00            2          780.00   \n",
       "3        8          4530.000000        13590.00            3         1510.00   \n",
       "4        9          2428.076923        33455.00           15        17445.00   \n",
       "\n",
       "   MONTH_SINCE_LAST_TRANSACTION  \n",
       "0                            11  \n",
       "1                             2  \n",
       "2                             4  \n",
       "3                             1  \n",
       "4                             6  "
      ]
     },
     "execution_count": 33,
     "metadata": {},
     "output_type": "execute_result"
    },
    {
     "data": {
      "text/html": [
       "<div>\n",
       "<style>\n",
       "    .dataframe thead tr:only-child th {\n",
       "        text-align: right;\n",
       "    }\n",
       "\n",
       "    .dataframe thead th {\n",
       "        text-align: left;\n",
       "    }\n",
       "\n",
       "    .dataframe tbody tr th {\n",
       "        vertical-align: top;\n",
       "    }\n",
       "</style>\n",
       "<table border=\"1\" class=\"dataframe\">\n",
       "  <thead>\n",
       "    <tr style=\"text-align: right;\">\n",
       "      <th></th>\n",
       "      <th>Cust_id</th>\n",
       "      <th>AVG_Actual_price_12</th>\n",
       "      <th>Purchase_Value</th>\n",
       "      <th>No_of_Items</th>\n",
       "      <th>Total_Discount</th>\n",
       "      <th>MONTH_SINCE_LAST_TRANSACTION</th>\n",
       "    </tr>\n",
       "  </thead>\n",
       "  <tbody>\n",
       "    <tr>\n",
       "      <th>697</th>\n",
       "      <td>1002</td>\n",
       "      <td>2210.000</td>\n",
       "      <td>8840.00</td>\n",
       "      <td>4</td>\n",
       "      <td>11960.00</td>\n",
       "      <td>1</td>\n",
       "    </tr>\n",
       "    <tr>\n",
       "      <th>698</th>\n",
       "      <td>1003</td>\n",
       "      <td>2500.000</td>\n",
       "      <td>2500.00</td>\n",
       "      <td>1</td>\n",
       "      <td>0.00</td>\n",
       "      <td>5</td>\n",
       "    </tr>\n",
       "    <tr>\n",
       "      <th>699</th>\n",
       "      <td>1004</td>\n",
       "      <td>347.045</td>\n",
       "      <td>694.09</td>\n",
       "      <td>2</td>\n",
       "      <td>605.91</td>\n",
       "      <td>12</td>\n",
       "    </tr>\n",
       "    <tr>\n",
       "      <th>700</th>\n",
       "      <td>1005</td>\n",
       "      <td>3750.000</td>\n",
       "      <td>3750.00</td>\n",
       "      <td>1</td>\n",
       "      <td>3750.00</td>\n",
       "      <td>12</td>\n",
       "    </tr>\n",
       "    <tr>\n",
       "      <th>701</th>\n",
       "      <td>1006</td>\n",
       "      <td>4150.000</td>\n",
       "      <td>4150.00</td>\n",
       "      <td>1</td>\n",
       "      <td>4150.00</td>\n",
       "      <td>12</td>\n",
       "    </tr>\n",
       "  </tbody>\n",
       "</table>\n",
       "</div>"
      ],
      "text/plain": [
       "     Cust_id  AVG_Actual_price_12  Purchase_Value  No_of_Items  \\\n",
       "697     1002             2210.000         8840.00            4   \n",
       "698     1003             2500.000         2500.00            1   \n",
       "699     1004              347.045          694.09            2   \n",
       "700     1005             3750.000         3750.00            1   \n",
       "701     1006             4150.000         4150.00            1   \n",
       "\n",
       "     Total_Discount  MONTH_SINCE_LAST_TRANSACTION  \n",
       "697        11960.00                             1  \n",
       "698            0.00                             5  \n",
       "699          605.91                            12  \n",
       "700         3750.00                            12  \n",
       "701         4150.00                            12  "
      ]
     },
     "execution_count": 33,
     "metadata": {},
     "output_type": "execute_result"
    },
    {
     "name": "stdout",
     "output_type": "stream",
     "text": [
      "<class 'pandas.core.frame.DataFrame'>\n",
      "RangeIndex: 702 entries, 0 to 701\n",
      "Data columns (total 6 columns):\n",
      "Cust_id                         702 non-null int64\n",
      "AVG_Actual_price_12             702 non-null float64\n",
      "Purchase_Value                  702 non-null float64\n",
      "No_of_Items                     702 non-null int64\n",
      "Total_Discount                  702 non-null float64\n",
      "MONTH_SINCE_LAST_TRANSACTION    702 non-null int64\n",
      "dtypes: float64(3), int64(3)\n",
      "memory usage: 33.0 KB\n"
     ]
    },
    {
     "data": {
      "text/html": [
       "<div>\n",
       "<style>\n",
       "    .dataframe thead tr:only-child th {\n",
       "        text-align: right;\n",
       "    }\n",
       "\n",
       "    .dataframe thead th {\n",
       "        text-align: left;\n",
       "    }\n",
       "\n",
       "    .dataframe tbody tr th {\n",
       "        vertical-align: top;\n",
       "    }\n",
       "</style>\n",
       "<table border=\"1\" class=\"dataframe\">\n",
       "  <thead>\n",
       "    <tr style=\"text-align: right;\">\n",
       "      <th></th>\n",
       "      <th>Cust_id</th>\n",
       "      <th>AVG_Actual_price_12</th>\n",
       "      <th>Purchase_Value</th>\n",
       "      <th>No_of_Items</th>\n",
       "      <th>Total_Discount</th>\n",
       "      <th>MONTH_SINCE_LAST_TRANSACTION</th>\n",
       "    </tr>\n",
       "  </thead>\n",
       "  <tbody>\n",
       "    <tr>\n",
       "      <th>count</th>\n",
       "      <td>702.000000</td>\n",
       "      <td>702.000000</td>\n",
       "      <td>702.000000</td>\n",
       "      <td>702.000000</td>\n",
       "      <td>702.000000</td>\n",
       "      <td>702.000000</td>\n",
       "    </tr>\n",
       "    <tr>\n",
       "      <th>mean</th>\n",
       "      <td>501.414530</td>\n",
       "      <td>2642.877917</td>\n",
       "      <td>19820.633305</td>\n",
       "      <td>10.720798</td>\n",
       "      <td>20806.339088</td>\n",
       "      <td>5.029915</td>\n",
       "    </tr>\n",
       "    <tr>\n",
       "      <th>std</th>\n",
       "      <td>295.756706</td>\n",
       "      <td>1879.138285</td>\n",
       "      <td>34639.752609</td>\n",
       "      <td>20.038311</td>\n",
       "      <td>58427.798572</td>\n",
       "      <td>3.562840</td>\n",
       "    </tr>\n",
       "    <tr>\n",
       "      <th>min</th>\n",
       "      <td>1.000000</td>\n",
       "      <td>22.500000</td>\n",
       "      <td>45.000000</td>\n",
       "      <td>1.000000</td>\n",
       "      <td>-3962.480000</td>\n",
       "      <td>1.000000</td>\n",
       "    </tr>\n",
       "    <tr>\n",
       "      <th>25%</th>\n",
       "      <td>245.750000</td>\n",
       "      <td>1238.750000</td>\n",
       "      <td>4200.000000</td>\n",
       "      <td>2.000000</td>\n",
       "      <td>0.000000</td>\n",
       "      <td>2.000000</td>\n",
       "    </tr>\n",
       "    <tr>\n",
       "      <th>50%</th>\n",
       "      <td>486.500000</td>\n",
       "      <td>2100.000000</td>\n",
       "      <td>8660.000000</td>\n",
       "      <td>4.000000</td>\n",
       "      <td>2599.250000</td>\n",
       "      <td>4.000000</td>\n",
       "    </tr>\n",
       "    <tr>\n",
       "      <th>75%</th>\n",
       "      <td>763.750000</td>\n",
       "      <td>3700.000000</td>\n",
       "      <td>21197.000000</td>\n",
       "      <td>10.000000</td>\n",
       "      <td>17433.750000</td>\n",
       "      <td>8.000000</td>\n",
       "    </tr>\n",
       "    <tr>\n",
       "      <th>max</th>\n",
       "      <td>1006.000000</td>\n",
       "      <td>10000.000000</td>\n",
       "      <td>302721.740000</td>\n",
       "      <td>172.000000</td>\n",
       "      <td>734349.820000</td>\n",
       "      <td>12.000000</td>\n",
       "    </tr>\n",
       "  </tbody>\n",
       "</table>\n",
       "</div>"
      ],
      "text/plain": [
       "           Cust_id  AVG_Actual_price_12  Purchase_Value  No_of_Items  \\\n",
       "count   702.000000           702.000000      702.000000   702.000000   \n",
       "mean    501.414530          2642.877917    19820.633305    10.720798   \n",
       "std     295.756706          1879.138285    34639.752609    20.038311   \n",
       "min       1.000000            22.500000       45.000000     1.000000   \n",
       "25%     245.750000          1238.750000     4200.000000     2.000000   \n",
       "50%     486.500000          2100.000000     8660.000000     4.000000   \n",
       "75%     763.750000          3700.000000    21197.000000    10.000000   \n",
       "max    1006.000000         10000.000000   302721.740000   172.000000   \n",
       "\n",
       "       Total_Discount  MONTH_SINCE_LAST_TRANSACTION  \n",
       "count      702.000000                    702.000000  \n",
       "mean     20806.339088                      5.029915  \n",
       "std      58427.798572                      3.562840  \n",
       "min      -3962.480000                      1.000000  \n",
       "25%          0.000000                      2.000000  \n",
       "50%       2599.250000                      4.000000  \n",
       "75%      17433.750000                      8.000000  \n",
       "max     734349.820000                     12.000000  "
      ]
     },
     "execution_count": 33,
     "metadata": {},
     "output_type": "execute_result"
    },
    {
     "data": {
      "text/plain": [
       "False"
      ]
     },
     "execution_count": 33,
     "metadata": {},
     "output_type": "execute_result"
    }
   ],
   "source": [
    "path='C:/MyDocuments/MyDcuments/Personal/DataScience/My/UPX/Machine Learning/Projects/Customer Segmentation _ Recommendation'\n",
    "df=pd.read_csv(path+'/Supermarket Purchase.csv')\n",
    "\n",
    "df.head()\n",
    "df.tail()\n",
    "df.info()\n",
    "df.describe()\n",
    "df.isnull().any().any()"
   ]
  },
  {
   "cell_type": "code",
   "execution_count": 34,
   "metadata": {},
   "outputs": [
    {
     "data": {
      "text/plain": [
       "<matplotlib.axes._subplots.AxesSubplot at 0x823ced7d68>"
      ]
     },
     "execution_count": 34,
     "metadata": {},
     "output_type": "execute_result"
    },
    {
     "data": {
      "image/png": "[encoded data removed]",
      "text/plain": [
       "<matplotlib.figure.Figure at 0x823ceb7828>"
      ]
     },
     "metadata": {},
     "output_type": "display_data"
    }
   ],
   "source": [
    "sns.boxplot(data=df, orient=\"h\", palette=\"Set2\")"
   ]
  },
  {
   "cell_type": "markdown",
   "metadata": {},
   "source": [
    "# Data Cleanup and Wrangling"
   ]
  },
  {
   "cell_type": "code",
   "execution_count": 35,
   "metadata": {
    "collapsed": true
   },
   "outputs": [],
   "source": [
    "# Drop customer id as it would not give any insight \n",
    "df.drop('Cust_id',axis=1, inplace=True)"
   ]
  },
  {
   "cell_type": "markdown",
   "metadata": {},
   "source": [
    "# Data Prepeartion "
   ]
  },
  {
   "cell_type": "code",
   "execution_count": 56,
   "metadata": {},
   "outputs": [
    {
     "data": {
      "text/html": [
       "<div>\n",
       "<style>\n",
       "    .dataframe thead tr:only-child th {\n",
       "        text-align: right;\n",
       "    }\n",
       "\n",
       "    .dataframe thead th {\n",
       "        text-align: left;\n",
       "    }\n",
       "\n",
       "    .dataframe tbody tr th {\n",
       "        vertical-align: top;\n",
       "    }\n",
       "</style>\n",
       "<table border=\"1\" class=\"dataframe\">\n",
       "  <thead>\n",
       "    <tr style=\"text-align: right;\">\n",
       "      <th></th>\n",
       "      <th>AVG_Actual_price_12</th>\n",
       "      <th>Purchase_Value</th>\n",
       "      <th>No_of_Items</th>\n",
       "      <th>Total_Discount</th>\n",
       "      <th>MONTH_SINCE_LAST_TRANSACTION</th>\n",
       "    </tr>\n",
       "  </thead>\n",
       "  <tbody>\n",
       "    <tr>\n",
       "      <th>count</th>\n",
       "      <td>702.000000</td>\n",
       "      <td>702.000000</td>\n",
       "      <td>702.000000</td>\n",
       "      <td>702.000000</td>\n",
       "      <td>702.000000</td>\n",
       "    </tr>\n",
       "    <tr>\n",
       "      <th>mean</th>\n",
       "      <td>0.262629</td>\n",
       "      <td>0.065336</td>\n",
       "      <td>0.056847</td>\n",
       "      <td>0.033548</td>\n",
       "      <td>0.366356</td>\n",
       "    </tr>\n",
       "    <tr>\n",
       "      <th>std</th>\n",
       "      <td>0.188338</td>\n",
       "      <td>0.114445</td>\n",
       "      <td>0.117183</td>\n",
       "      <td>0.079137</td>\n",
       "      <td>0.323895</td>\n",
       "    </tr>\n",
       "    <tr>\n",
       "      <th>min</th>\n",
       "      <td>0.000000</td>\n",
       "      <td>0.000000</td>\n",
       "      <td>0.000000</td>\n",
       "      <td>0.000000</td>\n",
       "      <td>0.000000</td>\n",
       "    </tr>\n",
       "    <tr>\n",
       "      <th>25%</th>\n",
       "      <td>0.121899</td>\n",
       "      <td>0.013728</td>\n",
       "      <td>0.005848</td>\n",
       "      <td>0.005367</td>\n",
       "      <td>0.090909</td>\n",
       "    </tr>\n",
       "    <tr>\n",
       "      <th>50%</th>\n",
       "      <td>0.208218</td>\n",
       "      <td>0.028463</td>\n",
       "      <td>0.017544</td>\n",
       "      <td>0.008887</td>\n",
       "      <td>0.272727</td>\n",
       "    </tr>\n",
       "    <tr>\n",
       "      <th>75%</th>\n",
       "      <td>0.368579</td>\n",
       "      <td>0.069883</td>\n",
       "      <td>0.052632</td>\n",
       "      <td>0.028980</td>\n",
       "      <td>0.636364</td>\n",
       "    </tr>\n",
       "    <tr>\n",
       "      <th>max</th>\n",
       "      <td>1.000000</td>\n",
       "      <td>1.000000</td>\n",
       "      <td>1.000000</td>\n",
       "      <td>1.000000</td>\n",
       "      <td>1.000000</td>\n",
       "    </tr>\n",
       "  </tbody>\n",
       "</table>\n",
       "</div>"
      ],
      "text/plain": [
       "       AVG_Actual_price_12  Purchase_Value  No_of_Items  Total_Discount  \\\n",
       "count           702.000000      702.000000   702.000000      702.000000   \n",
       "mean              0.262629        0.065336     0.056847        0.033548   \n",
       "std               0.188338        0.114445     0.117183        0.079137   \n",
       "min               0.000000        0.000000     0.000000        0.000000   \n",
       "25%               0.121899        0.013728     0.005848        0.005367   \n",
       "50%               0.208218        0.028463     0.017544        0.008887   \n",
       "75%               0.368579        0.069883     0.052632        0.028980   \n",
       "max               1.000000        1.000000     1.000000        1.000000   \n",
       "\n",
       "       MONTH_SINCE_LAST_TRANSACTION  \n",
       "count                    702.000000  \n",
       "mean                       0.366356  \n",
       "std                        0.323895  \n",
       "min                        0.000000  \n",
       "25%                        0.090909  \n",
       "50%                        0.272727  \n",
       "75%                        0.636364  \n",
       "max                        1.000000  "
      ]
     },
     "execution_count": 56,
     "metadata": {},
     "output_type": "execute_result"
    },
    {
     "data": {
      "text/plain": [
       "<matplotlib.axes._subplots.AxesSubplot at 0x823d5bb198>"
      ]
     },
     "execution_count": 56,
     "metadata": {},
     "output_type": "execute_result"
    },
    {
     "data": {
      "image/png": "[encoded data removed]",
      "text/plain": [
       "<matplotlib.figure.Figure at 0x823d4210b8>"
      ]
     },
     "metadata": {},
     "output_type": "display_data"
    }
   ],
   "source": [
    "# Data scale standardization needs to be done for distance based models\n",
    "scale=MinMaxScaler(feature_range=(0,1))\n",
    "df_scaled=pd.DataFrame( scale.fit_transform(df))\n",
    "df_scaled.columns=df.columns;\n",
    "df_scaled.describe()\n"
   ]
  },
  {
   "cell_type": "code",
   "execution_count": 41,
   "metadata": {
    "collapsed": true
   },
   "outputs": [],
   "source": [
    "# Train Test Split\n",
    "xtrain,xtest=train_test_split(df_scaled,test_size=.5)"
   ]
  },
  {
   "cell_type": "markdown",
   "metadata": {},
   "source": [
    "# Clustering using KMeans\n",
    "\n"
   ]
  },
  {
   "cell_type": "code",
   "execution_count": 54,
   "metadata": {},
   "outputs": [
    {
     "data": {
      "text/plain": [
       "KMeans(algorithm='auto', copy_x=True, init='k-means++', max_iter=300,\n",
       "    n_clusters=2, n_init=10, n_jobs=1, precompute_distances='auto',\n",
       "    random_state=None, tol=0.0001, verbose=0)"
      ]
     },
     "execution_count": 54,
     "metadata": {},
     "output_type": "execute_result"
    },
    {
     "data": {
      "text/plain": [
       "KMeans(algorithm='auto', copy_x=True, init='k-means++', max_iter=300,\n",
       "    n_clusters=3, n_init=10, n_jobs=1, precompute_distances='auto',\n",
       "    random_state=None, tol=0.0001, verbose=0)"
      ]
     },
     "execution_count": 54,
     "metadata": {},
     "output_type": "execute_result"
    },
    {
     "data": {
      "text/plain": [
       "KMeans(algorithm='auto', copy_x=True, init='k-means++', max_iter=300,\n",
       "    n_clusters=4, n_init=10, n_jobs=1, precompute_distances='auto',\n",
       "    random_state=None, tol=0.0001, verbose=0)"
      ]
     },
     "execution_count": 54,
     "metadata": {},
     "output_type": "execute_result"
    },
    {
     "data": {
      "text/plain": [
       "KMeans(algorithm='auto', copy_x=True, init='k-means++', max_iter=300,\n",
       "    n_clusters=5, n_init=10, n_jobs=1, precompute_distances='auto',\n",
       "    random_state=None, tol=0.0001, verbose=0)"
      ]
     },
     "execution_count": 54,
     "metadata": {},
     "output_type": "execute_result"
    },
    {
     "data": {
      "text/plain": [
       "KMeans(algorithm='auto', copy_x=True, init='k-means++', max_iter=300,\n",
       "    n_clusters=6, n_init=10, n_jobs=1, precompute_distances='auto',\n",
       "    random_state=None, tol=0.0001, verbose=0)"
      ]
     },
     "execution_count": 54,
     "metadata": {},
     "output_type": "execute_result"
    },
    {
     "data": {
      "text/plain": [
       "KMeans(algorithm='auto', copy_x=True, init='k-means++', max_iter=300,\n",
       "    n_clusters=7, n_init=10, n_jobs=1, precompute_distances='auto',\n",
       "    random_state=None, tol=0.0001, verbose=0)"
      ]
     },
     "execution_count": 54,
     "metadata": {},
     "output_type": "execute_result"
    },
    {
     "data": {
      "text/plain": [
       "KMeans(algorithm='auto', copy_x=True, init='k-means++', max_iter=300,\n",
       "    n_clusters=8, n_init=10, n_jobs=1, precompute_distances='auto',\n",
       "    random_state=None, tol=0.0001, verbose=0)"
      ]
     },
     "execution_count": 54,
     "metadata": {},
     "output_type": "execute_result"
    }
   ],
   "source": [
    "from scipy.spatial.distance import cdist\n",
    "cluster=range(2,9)\n",
    "error=[]\n",
    "\n",
    "for k in cluster:\n",
    "    kmeans=KMeans(k)\n",
    "    kmeans.fit(xtrain)\n",
    "    clusassign=kmeans.predict(xtrain)\n",
    "    error.append(kmeans.inertia_/100)\n",
    "    \n",
    "df_clust=pd.DataFrame({\"No_of_Cluster\":cluster,\"SSE\":error })    "
   ]
  },
  {
   "cell_type": "code",
   "execution_count": 55,
   "metadata": {},
   "outputs": [
    {
     "data": {
      "text/plain": [
       "[<matplotlib.lines.Line2D at 0x823cf8ccf8>]"
      ]
     },
     "execution_count": 55,
     "metadata": {},
     "output_type": "execute_result"
    },
    {
     "data": {
      "text/plain": [
       "Text(0.5,0,'Number of clusters')"
      ]
     },
     "execution_count": 55,
     "metadata": {},
     "output_type": "execute_result"
    },
    {
     "data": {
      "text/plain": [
       "Text(0,0.5,'SSE')"
      ]
     },
     "execution_count": 55,
     "metadata": {},
     "output_type": "execute_result"
    },
    {
     "data": {
      "text/plain": [
       "Text(0.5,1,'Selecting k with the Elbow Method')"
      ]
     },
     "execution_count": 55,
     "metadata": {},
     "output_type": "execute_result"
    },
    {
     "data": {
      "image/png": "[encoded data removed]",
      "text/plain": [
       "<matplotlib.figure.Figure at 0x823dd39400>"
      ]
     },
     "metadata": {},
     "output_type": "display_data"
    }
   ],
   "source": [
    "plt.plot(cluster, error)\n",
    "plt.xlabel('Number of clusters')\n",
    "plt.ylabel('SSE')\n",
    "plt.title('Selecting k with the Elbow Method') # pick the fewest number of clusters that reduces the average distance"
   ]
  },
  {
   "cell_type": "code",
   "execution_count": 47,
   "metadata": {},
   "outputs": [
    {
     "data": {
      "text/plain": [
       "KMeans(algorithm='auto', copy_x=True, init='k-means++', max_iter=300,\n",
       "    n_clusters=3, n_init=10, n_jobs=1, precompute_distances='auto',\n",
       "    random_state=None, tol=0.0001, verbose=0)"
      ]
     },
     "execution_count": 47,
     "metadata": {},
     "output_type": "execute_result"
    },
    {
     "data": {
      "text/plain": [
       "32.332934175190822"
      ]
     },
     "execution_count": 47,
     "metadata": {},
     "output_type": "execute_result"
    },
    {
     "name": "stderr",
     "output_type": "stream",
     "text": [
      "C:\\ProgramData\\Anaconda3\\lib\\site-packages\\ipykernel_launcher.py:7: SettingWithCopyWarning: \n",
      "A value is trying to be set on a copy of a slice from a DataFrame.\n",
      "Try using .loc[row_indexer,col_indexer] = value instead\n",
      "\n",
      "See the caveats in the documentation: http://pandas.pydata.org/pandas-docs/stable/indexing.html#indexing-view-versus-copy\n",
      "  import sys\n"
     ]
    },
    {
     "data": {
      "text/html": [
       "<div>\n",
       "<style>\n",
       "    .dataframe thead tr:only-child th {\n",
       "        text-align: right;\n",
       "    }\n",
       "\n",
       "    .dataframe thead th {\n",
       "        text-align: left;\n",
       "    }\n",
       "\n",
       "    .dataframe tbody tr th {\n",
       "        vertical-align: top;\n",
       "    }\n",
       "</style>\n",
       "<table border=\"1\" class=\"dataframe\">\n",
       "  <thead>\n",
       "    <tr style=\"text-align: right;\">\n",
       "      <th></th>\n",
       "      <th>AVG_Actual_price_12</th>\n",
       "      <th>MONTH_SINCE_LAST_TRANSACTION</th>\n",
       "      <th>No_of_Items</th>\n",
       "      <th>Purchase_Value</th>\n",
       "      <th>Total_Discount</th>\n",
       "    </tr>\n",
       "    <tr>\n",
       "      <th>cluster</th>\n",
       "      <th></th>\n",
       "      <th></th>\n",
       "      <th></th>\n",
       "      <th></th>\n",
       "      <th></th>\n",
       "    </tr>\n",
       "  </thead>\n",
       "  <tbody>\n",
       "    <tr>\n",
       "      <th>0</th>\n",
       "      <td>0.209612</td>\n",
       "      <td>0.700284</td>\n",
       "      <td>0.060581</td>\n",
       "      <td>0.059147</td>\n",
       "      <td>0.030592</td>\n",
       "    </tr>\n",
       "    <tr>\n",
       "      <th>1</th>\n",
       "      <td>0.178628</td>\n",
       "      <td>0.126430</td>\n",
       "      <td>0.073700</td>\n",
       "      <td>0.074625</td>\n",
       "      <td>0.038292</td>\n",
       "    </tr>\n",
       "    <tr>\n",
       "      <th>2</th>\n",
       "      <td>0.557535</td>\n",
       "      <td>0.212121</td>\n",
       "      <td>0.010071</td>\n",
       "      <td>0.045378</td>\n",
       "      <td>0.008063</td>\n",
       "    </tr>\n",
       "  </tbody>\n",
       "</table>\n",
       "</div>"
      ],
      "text/plain": [
       "         AVG_Actual_price_12  MONTH_SINCE_LAST_TRANSACTION  No_of_Items  \\\n",
       "cluster                                                                   \n",
       "0                   0.209612                      0.700284     0.060581   \n",
       "1                   0.178628                      0.126430     0.073700   \n",
       "2                   0.557535                      0.212121     0.010071   \n",
       "\n",
       "         Purchase_Value  Total_Discount  \n",
       "cluster                                  \n",
       "0              0.059147        0.030592  \n",
       "1              0.074625        0.038292  \n",
       "2              0.045378        0.008063  "
      ]
     },
     "execution_count": 47,
     "metadata": {},
     "output_type": "execute_result"
    },
    {
     "data": {
      "text/html": [
       "<div>\n",
       "<style>\n",
       "    .dataframe thead tr:only-child th {\n",
       "        text-align: right;\n",
       "    }\n",
       "\n",
       "    .dataframe thead th {\n",
       "        text-align: left;\n",
       "    }\n",
       "\n",
       "    .dataframe tbody tr th {\n",
       "        vertical-align: top;\n",
       "    }\n",
       "</style>\n",
       "<table border=\"1\" class=\"dataframe\">\n",
       "  <thead>\n",
       "    <tr style=\"text-align: right;\">\n",
       "      <th></th>\n",
       "      <th>AVG_Actual_price_12</th>\n",
       "      <th>MONTH_SINCE_LAST_TRANSACTION</th>\n",
       "      <th>No_of_Items</th>\n",
       "      <th>Purchase_Value</th>\n",
       "      <th>Total_Discount</th>\n",
       "    </tr>\n",
       "    <tr>\n",
       "      <th>cluster</th>\n",
       "      <th></th>\n",
       "      <th></th>\n",
       "      <th></th>\n",
       "      <th></th>\n",
       "      <th></th>\n",
       "    </tr>\n",
       "  </thead>\n",
       "  <tbody>\n",
       "    <tr>\n",
       "      <th>0</th>\n",
       "      <td>128</td>\n",
       "      <td>128</td>\n",
       "      <td>128</td>\n",
       "      <td>128</td>\n",
       "      <td>128</td>\n",
       "    </tr>\n",
       "    <tr>\n",
       "      <th>1</th>\n",
       "      <td>151</td>\n",
       "      <td>151</td>\n",
       "      <td>151</td>\n",
       "      <td>151</td>\n",
       "      <td>151</td>\n",
       "    </tr>\n",
       "    <tr>\n",
       "      <th>2</th>\n",
       "      <td>72</td>\n",
       "      <td>72</td>\n",
       "      <td>72</td>\n",
       "      <td>72</td>\n",
       "      <td>72</td>\n",
       "    </tr>\n",
       "  </tbody>\n",
       "</table>\n",
       "</div>"
      ],
      "text/plain": [
       "         AVG_Actual_price_12  MONTH_SINCE_LAST_TRANSACTION  No_of_Items  \\\n",
       "cluster                                                                   \n",
       "0                        128                           128          128   \n",
       "1                        151                           151          151   \n",
       "2                         72                            72           72   \n",
       "\n",
       "         Purchase_Value  Total_Discount  \n",
       "cluster                                  \n",
       "0                   128             128  \n",
       "1                   151             151  \n",
       "2                    72              72  "
      ]
     },
     "execution_count": 47,
     "metadata": {},
     "output_type": "execute_result"
    }
   ],
   "source": [
    "kmeans=KMeans(3)\n",
    "kmeans.fit(xtrain)\n",
    "labels=kmeans.predict(xtrain)\n",
    "kmeans.inertia_\n",
    "\n",
    "features=xtrain.columns\n",
    "xtrain[\"cluster\"]=labels\n",
    "xtrain.pivot_table(features, index='cluster',aggfunc='mean')\n",
    "xtrain.pivot_table(features, index='cluster',aggfunc='count')"
   ]
  },
  {
   "cell_type": "code",
   "execution_count": null,
   "metadata": {
    "collapsed": true
   },
   "outputs": [],
   "source": []
  },
  {
   "cell_type": "markdown",
   "metadata": {},
   "source": [
    "# Clustering on Test Data"
   ]
  },
  {
   "cell_type": "code",
   "execution_count": 49,
   "metadata": {},
   "outputs": [
    {
     "data": {
      "text/plain": [
       "KMeans(algorithm='auto', copy_x=True, init='k-means++', max_iter=300,\n",
       "    n_clusters=3, n_init=10, n_jobs=1, precompute_distances='auto',\n",
       "    random_state=None, tol=0.0001, verbose=0)"
      ]
     },
     "execution_count": 49,
     "metadata": {},
     "output_type": "execute_result"
    },
    {
     "data": {
      "text/plain": [
       "41.179966519416624"
      ]
     },
     "execution_count": 49,
     "metadata": {},
     "output_type": "execute_result"
    },
    {
     "name": "stderr",
     "output_type": "stream",
     "text": [
      "C:\\ProgramData\\Anaconda3\\lib\\site-packages\\ipykernel_launcher.py:7: SettingWithCopyWarning: \n",
      "A value is trying to be set on a copy of a slice from a DataFrame.\n",
      "Try using .loc[row_indexer,col_indexer] = value instead\n",
      "\n",
      "See the caveats in the documentation: http://pandas.pydata.org/pandas-docs/stable/indexing.html#indexing-view-versus-copy\n",
      "  import sys\n"
     ]
    },
    {
     "data": {
      "text/html": [
       "<div>\n",
       "<style>\n",
       "    .dataframe thead tr:only-child th {\n",
       "        text-align: right;\n",
       "    }\n",
       "\n",
       "    .dataframe thead th {\n",
       "        text-align: left;\n",
       "    }\n",
       "\n",
       "    .dataframe tbody tr th {\n",
       "        vertical-align: top;\n",
       "    }\n",
       "</style>\n",
       "<table border=\"1\" class=\"dataframe\">\n",
       "  <thead>\n",
       "    <tr style=\"text-align: right;\">\n",
       "      <th></th>\n",
       "      <th>AVG_Actual_price_12</th>\n",
       "      <th>MONTH_SINCE_LAST_TRANSACTION</th>\n",
       "      <th>No_of_Items</th>\n",
       "      <th>Purchase_Value</th>\n",
       "      <th>Total_Discount</th>\n",
       "    </tr>\n",
       "    <tr>\n",
       "      <th>cluster</th>\n",
       "      <th></th>\n",
       "      <th></th>\n",
       "      <th></th>\n",
       "      <th></th>\n",
       "      <th></th>\n",
       "    </tr>\n",
       "  </thead>\n",
       "  <tbody>\n",
       "    <tr>\n",
       "      <th>0</th>\n",
       "      <td>0.518954</td>\n",
       "      <td>0.225175</td>\n",
       "      <td>0.021862</td>\n",
       "      <td>0.069414</td>\n",
       "      <td>0.009470</td>\n",
       "    </tr>\n",
       "    <tr>\n",
       "      <th>1</th>\n",
       "      <td>0.165583</td>\n",
       "      <td>0.143574</td>\n",
       "      <td>0.075418</td>\n",
       "      <td>0.067117</td>\n",
       "      <td>0.041748</td>\n",
       "    </tr>\n",
       "    <tr>\n",
       "      <th>2</th>\n",
       "      <td>0.231759</td>\n",
       "      <td>0.693101</td>\n",
       "      <td>0.056323</td>\n",
       "      <td>0.067486</td>\n",
       "      <td>0.046830</td>\n",
       "    </tr>\n",
       "  </tbody>\n",
       "</table>\n",
       "</div>"
      ],
      "text/plain": [
       "         AVG_Actual_price_12  MONTH_SINCE_LAST_TRANSACTION  No_of_Items  \\\n",
       "cluster                                                                   \n",
       "0                   0.518954                      0.225175     0.021862   \n",
       "1                   0.165583                      0.143574     0.075418   \n",
       "2                   0.231759                      0.693101     0.056323   \n",
       "\n",
       "         Purchase_Value  Total_Discount  \n",
       "cluster                                  \n",
       "0              0.069414        0.009470  \n",
       "1              0.067117        0.041748  \n",
       "2              0.067486        0.046830  "
      ]
     },
     "execution_count": 49,
     "metadata": {},
     "output_type": "execute_result"
    },
    {
     "data": {
      "text/html": [
       "<div>\n",
       "<style>\n",
       "    .dataframe thead tr:only-child th {\n",
       "        text-align: right;\n",
       "    }\n",
       "\n",
       "    .dataframe thead th {\n",
       "        text-align: left;\n",
       "    }\n",
       "\n",
       "    .dataframe tbody tr th {\n",
       "        vertical-align: top;\n",
       "    }\n",
       "</style>\n",
       "<table border=\"1\" class=\"dataframe\">\n",
       "  <thead>\n",
       "    <tr style=\"text-align: right;\">\n",
       "      <th></th>\n",
       "      <th>AVG_Actual_price_12</th>\n",
       "      <th>MONTH_SINCE_LAST_TRANSACTION</th>\n",
       "      <th>No_of_Items</th>\n",
       "      <th>Purchase_Value</th>\n",
       "      <th>Total_Discount</th>\n",
       "    </tr>\n",
       "    <tr>\n",
       "      <th>cluster</th>\n",
       "      <th></th>\n",
       "      <th></th>\n",
       "      <th></th>\n",
       "      <th></th>\n",
       "      <th></th>\n",
       "    </tr>\n",
       "  </thead>\n",
       "  <tbody>\n",
       "    <tr>\n",
       "      <th>0</th>\n",
       "      <td>65</td>\n",
       "      <td>65</td>\n",
       "      <td>65</td>\n",
       "      <td>65</td>\n",
       "      <td>65</td>\n",
       "    </tr>\n",
       "    <tr>\n",
       "      <th>1</th>\n",
       "      <td>145</td>\n",
       "      <td>145</td>\n",
       "      <td>145</td>\n",
       "      <td>145</td>\n",
       "      <td>145</td>\n",
       "    </tr>\n",
       "    <tr>\n",
       "      <th>2</th>\n",
       "      <td>141</td>\n",
       "      <td>141</td>\n",
       "      <td>141</td>\n",
       "      <td>141</td>\n",
       "      <td>141</td>\n",
       "    </tr>\n",
       "  </tbody>\n",
       "</table>\n",
       "</div>"
      ],
      "text/plain": [
       "         AVG_Actual_price_12  MONTH_SINCE_LAST_TRANSACTION  No_of_Items  \\\n",
       "cluster                                                                   \n",
       "0                         65                            65           65   \n",
       "1                        145                           145          145   \n",
       "2                        141                           141          141   \n",
       "\n",
       "         Purchase_Value  Total_Discount  \n",
       "cluster                                  \n",
       "0                    65              65  \n",
       "1                   145             145  \n",
       "2                   141             141  "
      ]
     },
     "execution_count": 49,
     "metadata": {},
     "output_type": "execute_result"
    }
   ],
   "source": [
    "kmeans=KMeans(3)\n",
    "kmeans.fit(xtest)\n",
    "labels=kmeans.predict(xtest)\n",
    "kmeans.inertia_\n",
    "\n",
    "features=xtest.columns\n",
    "xtest[\"cluster\"]=labels\n",
    "xtest.pivot_table(features, index='cluster',aggfunc='mean')\n",
    "xtest.pivot_table(features, index='cluster',aggfunc='count')\n",
    "      "
   ]
  },
  {
   "cell_type": "markdown",
   "metadata": {
    "collapsed": true
   },
   "source": [
    "# Interpretation of result"
   ]
  },
  {
   "cell_type": "code",
   "execution_count": null,
   "metadata": {
    "collapsed": true
   },
   "outputs": [],
   "source": [
    "The clusters generated on traning data seems similar to the clusters created on test data"
   ]
  }
 ],
 "metadata": {
  "kernelspec": {
   "display_name": "Python 3",
   "language": "python",
   "name": "python3"
  },
  "language_info": {
   "codemirror_mode": {
    "name": "ipython",
    "version": 3
   },
   "file_extension": ".py",
   "mimetype": "text/x-python",
   "name": "python",
   "nbconvert_exporter": "python",
   "pygments_lexer": "ipython3",
   "version": "3.6.3"
  }
 },
 "nbformat": 4,
 "nbformat_minor": 2
}
