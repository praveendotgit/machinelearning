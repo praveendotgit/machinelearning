{
  "nbformat": 4,
  "nbformat_minor": 0,
  "metadata": {
    "colab": {
      "name": "Classification_MNIST_CNN_Keras.ipynb",
      "version": "0.3.2",
      "provenance": [],
      "collapsed_sections": [],
      "include_colab_link": true
    },
    "kernelspec": {
      "display_name": "Python 3",
      "language": "python",
      "name": "python3"
    }
  },
  "cells": [
    {
      "cell_type": "markdown",
      "metadata": {
        "id": "view-in-github",
        "colab_type": "text"
      },
      "source": [
        "<a href=\"https://colab.research.google.com/github/praveendotgit/machinelearning/blob/master/Classification_MNIST_CNN_Keras.ipynb\" target=\"_parent\"><img src=\"https://colab.research.google.com/assets/colab-badge.svg\" alt=\"Open In Colab\"/></a>"
      ]
    },
    {
      "metadata": {
        "id": "MzRy01TgfAJ3",
        "colab_type": "text"
      },
      "cell_type": "markdown",
      "source": [
        "### Load tensorflow"
      ]
    },
    {
      "metadata": {
        "id": "YAUdpd4dfAJ8",
        "colab_type": "code",
        "colab": {}
      },
      "cell_type": "code",
      "source": [
        "import tensorflow as tf\n",
        "tf.reset_default_graph()\n",
        "tf.set_random_seed(42)"
      ],
      "execution_count": 0,
      "outputs": []
    },
    {
      "metadata": {
        "id": "RA2wlyyHfAKE",
        "colab_type": "text"
      },
      "cell_type": "markdown",
      "source": [
        "### Collect Data"
      ]
    },
    {
      "metadata": {
        "id": "s7jA0z1PfAKG",
        "colab_type": "code",
        "colab": {},
        "outputId": "c756cfc5-b1c8-4aab-dcfc-56e8e53c9108"
      },
      "cell_type": "code",
      "source": [
        "(trainX, trainY),(testX, testY) = tf.keras.datasets.mnist.load_data()"
      ],
      "execution_count": 0,
      "outputs": [
        {
          "output_type": "stream",
          "text": [
            "Downloading data from https://storage.googleapis.com/tensorflow/tf-keras-datasets/mnist.npz\n",
            "11493376/11490434 [==============================] - 6s 1us/step\n"
          ],
          "name": "stdout"
        }
      ]
    },
    {
      "metadata": {
        "id": "dPesOLBlfAKN",
        "colab_type": "code",
        "colab": {},
        "outputId": "6d56663d-cf55-4768-c6b6-8e9f65d205a0"
      },
      "cell_type": "code",
      "source": [
        "trainX.shape"
      ],
      "execution_count": 0,
      "outputs": [
        {
          "output_type": "execute_result",
          "data": {
            "text/plain": [
              "(60000, 28, 28)"
            ]
          },
          "metadata": {
            "tags": []
          },
          "execution_count": 3
        }
      ]
    },
    {
      "metadata": {
        "id": "bo2xmuSWfAKR",
        "colab_type": "text"
      },
      "cell_type": "markdown",
      "source": [
        "### Convert Output label to multiple values"
      ]
    },
    {
      "metadata": {
        "id": "iVHqx1LbfAKT",
        "colab_type": "code",
        "colab": {}
      },
      "cell_type": "code",
      "source": [
        "trainY = tf.keras.utils.to_categorical(trainY, num_classes=10)\n",
        "testY = tf.keras.utils.to_categorical(testY, num_classes=10)"
      ],
      "execution_count": 0,
      "outputs": []
    },
    {
      "metadata": {
        "id": "WQfcpb3OfAKW",
        "colab_type": "text"
      },
      "cell_type": "markdown",
      "source": [
        "## Build the Graph"
      ]
    },
    {
      "metadata": {
        "id": "qxjqOp3VfAKY",
        "colab_type": "code",
        "colab": {}
      },
      "cell_type": "code",
      "source": [
        "#Initialize model, reshape & normalize data\n",
        "model = tf.keras.models.Sequential()\n",
        "\n",
        "#Reshape data from 2D (28,28) to 3D (28, 28, 1)\n",
        "model.add(tf.keras.layers.Reshape((28,28,1),input_shape=(28,28,)))\n",
        "\n",
        "#normalize data\n",
        "model.add(tf.keras.layers.BatchNormalization())"
      ],
      "execution_count": 0,
      "outputs": []
    },
    {
      "metadata": {
        "id": "2BEUTpG0fAKb",
        "colab_type": "text"
      },
      "cell_type": "markdown",
      "source": [
        "### Apply Convolutional Layers, MaxPooling"
      ]
    },
    {
      "metadata": {
        "id": "u55lha6AfAKc",
        "colab_type": "code",
        "colab": {}
      },
      "cell_type": "code",
      "source": [
        "#Add first convolutional layer\n",
        "model.add(tf.keras.layers.Conv2D(32, #Number of filters \n",
        "                                 kernel_size=(3,3), #Size of the filter\n",
        "                                 activation='relu'))\n",
        "\n",
        "#Add second convolutional layer\n",
        "model.add(tf.keras.layers.Conv2D(64, kernel_size=(3,3), activation='relu'))\n",
        "\n",
        "#Add MaxPooling layer\n",
        "model.add(tf.keras.layers.MaxPool2D(pool_size=(2,2)))"
      ],
      "execution_count": 0,
      "outputs": []
    },
    {
      "metadata": {
        "id": "C6Hoax7BfAKf",
        "colab_type": "text"
      },
      "cell_type": "markdown",
      "source": [
        "### Add layers for Classification"
      ]
    },
    {
      "metadata": {
        "id": "SJY08T2ufAKh",
        "colab_type": "code",
        "colab": {}
      },
      "cell_type": "code",
      "source": [
        "#Flatten the output\n",
        "model.add(tf.keras.layers.Flatten())\n",
        "\n",
        "#Dense layer\n",
        "model.add(tf.keras.layers.Dense(128, activation='relu'))\n",
        "\n",
        "#Add another dropout layer\n",
        "model.add(tf.keras.layers.Dropout(0.25))\n",
        "\n",
        "#Output layer\n",
        "model.add(tf.keras.layers.Dense(10, activation='softmax'))"
      ],
      "execution_count": 0,
      "outputs": []
    },
    {
      "metadata": {
        "id": "vR6b-5e1fAKk",
        "colab_type": "code",
        "colab": {}
      },
      "cell_type": "code",
      "source": [
        "model.compile(optimizer='adam', loss='categorical_crossentropy', metrics=['accuracy'])"
      ],
      "execution_count": 0,
      "outputs": []
    },
    {
      "metadata": {
        "id": "Ovyf9EuofAKo",
        "colab_type": "code",
        "colab": {},
        "outputId": "d1e8e038-98f5-4462-997d-66cb2fb0b7ab"
      },
      "cell_type": "code",
      "source": [
        "model.summary()"
      ],
      "execution_count": 0,
      "outputs": [
        {
          "output_type": "stream",
          "text": [
            "_________________________________________________________________\n",
            "Layer (type)                 Output Shape              Param #   \n",
            "=================================================================\n",
            "reshape (Reshape)            (None, 28, 28, 1)         0         \n",
            "_________________________________________________________________\n",
            "batch_normalization (BatchNo (None, 28, 28, 1)         4         \n",
            "_________________________________________________________________\n",
            "conv2d (Conv2D)              (None, 26, 26, 32)        320       \n",
            "_________________________________________________________________\n",
            "conv2d_1 (Conv2D)            (None, 24, 24, 64)        18496     \n",
            "_________________________________________________________________\n",
            "max_pooling2d (MaxPooling2D) (None, 12, 12, 64)        0         \n",
            "_________________________________________________________________\n",
            "flatten (Flatten)            (None, 9216)              0         \n",
            "_________________________________________________________________\n",
            "dense (Dense)                (None, 128)               1179776   \n",
            "_________________________________________________________________\n",
            "dropout (Dropout)            (None, 128)               0         \n",
            "_________________________________________________________________\n",
            "dense_1 (Dense)              (None, 10)                1290      \n",
            "=================================================================\n",
            "Total params: 1,199,886\n",
            "Trainable params: 1,199,884\n",
            "Non-trainable params: 2\n",
            "_________________________________________________________________\n"
          ],
          "name": "stdout"
        }
      ]
    },
    {
      "metadata": {
        "id": "PaZkcYCSfAKr",
        "colab_type": "text"
      },
      "cell_type": "markdown",
      "source": [
        "## Train the model"
      ]
    },
    {
      "metadata": {
        "id": "1Tx_vRiEfAKs",
        "colab_type": "code",
        "colab": {}
      },
      "cell_type": "code",
      "source": [
        "tensorboard = tf.keras.callbacks.TensorBoard(log_dir='/tmp/mnist/cnn_v1')"
      ],
      "execution_count": 0,
      "outputs": []
    },
    {
      "metadata": {
        "id": "MnXnU6H6fAKv",
        "colab_type": "code",
        "colab": {},
        "outputId": "4f379deb-7ecf-4dce-f40d-76d9e52440f0"
      },
      "cell_type": "code",
      "source": [
        "#Train the model\n",
        "model.fit(trainX,trainY,          \n",
        "          validation_data=(testX,testY),\n",
        "          callbacks=[tensorboard],\n",
        "          epochs=30,\n",
        "          batch_size=32)"
      ],
      "execution_count": 0,
      "outputs": [
        {
          "output_type": "stream",
          "text": [
            "Train on 60000 samples, validate on 10000 samples\n",
            "Epoch 1/30\n",
            "60000/60000 [==============================] - 18s 303us/step - loss: 0.1200 - acc: 0.9631 - val_loss: 0.0377 - val_acc: 0.9882\n",
            "Epoch 2/30\n",
            "60000/60000 [==============================] - 15s 255us/step - loss: 0.0467 - acc: 0.9856 - val_loss: 0.0363 - val_acc: 0.9886\n",
            "Epoch 3/30\n",
            "60000/60000 [==============================] - 14s 234us/step - loss: 0.0324 - acc: 0.9898 - val_loss: 0.0309 - val_acc: 0.9904\n",
            "Epoch 4/30\n",
            "60000/60000 [==============================] - 14s 235us/step - loss: 0.0227 - acc: 0.9930 - val_loss: 0.0387 - val_acc: 0.9905\n",
            "Epoch 5/30\n",
            "60000/60000 [==============================] - 15s 243us/step - loss: 0.0188 - acc: 0.9940 - val_loss: 0.0322 - val_acc: 0.9905\n",
            "Epoch 6/30\n",
            "60000/60000 [==============================] - 16s 268us/step - loss: 0.0153 - acc: 0.9949 - val_loss: 0.0335 - val_acc: 0.9905\n",
            "Epoch 7/30\n",
            "60000/60000 [==============================] - 16s 260us/step - loss: 0.0128 - acc: 0.9961 - val_loss: 0.0378 - val_acc: 0.9893\n",
            "Epoch 8/30\n",
            "60000/60000 [==============================] - 14s 240us/step - loss: 0.0099 - acc: 0.9968 - val_loss: 0.0313 - val_acc: 0.9925\n",
            "Epoch 9/30\n",
            "60000/60000 [==============================] - 14s 240us/step - loss: 0.0098 - acc: 0.9966 - val_loss: 0.0387 - val_acc: 0.9909\n",
            "Epoch 10/30\n",
            "60000/60000 [==============================] - 15s 246us/step - loss: 0.0089 - acc: 0.9972 - val_loss: 0.0438 - val_acc: 0.9909\n",
            "Epoch 11/30\n",
            "60000/60000 [==============================] - 16s 272us/step - loss: 0.0074 - acc: 0.9973 - val_loss: 0.0333 - val_acc: 0.9925\n",
            "Epoch 12/30\n",
            "60000/60000 [==============================] - 16s 269us/step - loss: 0.0074 - acc: 0.9976 - val_loss: 0.0378 - val_acc: 0.9925\n",
            "Epoch 13/30\n",
            "60000/60000 [==============================] - 14s 241us/step - loss: 0.0069 - acc: 0.9977 - val_loss: 0.0403 - val_acc: 0.9900\n",
            "Epoch 14/30\n",
            "60000/60000 [==============================] - 14s 240us/step - loss: 0.0053 - acc: 0.9984 - val_loss: 0.0464 - val_acc: 0.9908\n",
            "Epoch 15/30\n",
            "60000/60000 [==============================] - 15s 245us/step - loss: 0.0055 - acc: 0.9984 - val_loss: 0.0343 - val_acc: 0.9933\n",
            "Epoch 16/30\n",
            "60000/60000 [==============================] - 16s 269us/step - loss: 0.0063 - acc: 0.9978 - val_loss: 0.0424 - val_acc: 0.9917\n",
            "Epoch 17/30\n",
            "60000/60000 [==============================] - 16s 267us/step - loss: 0.0041 - acc: 0.9987 - val_loss: 0.0432 - val_acc: 0.9908\n",
            "Epoch 18/30\n",
            "60000/60000 [==============================] - 15s 242us/step - loss: 0.0052 - acc: 0.9984 - val_loss: 0.0379 - val_acc: 0.9930\n",
            "Epoch 19/30\n",
            "60000/60000 [==============================] - 14s 241us/step - loss: 0.0044 - acc: 0.9986 - val_loss: 0.0522 - val_acc: 0.9895\n",
            "Epoch 20/30\n",
            "60000/60000 [==============================] - 15s 243us/step - loss: 0.0039 - acc: 0.9988 - val_loss: 0.0351 - val_acc: 0.9926\n",
            "Epoch 21/30\n",
            "60000/60000 [==============================] - 16s 270us/step - loss: 0.0046 - acc: 0.9986 - val_loss: 0.0392 - val_acc: 0.9926\n",
            "Epoch 22/30\n",
            "60000/60000 [==============================] - 16s 270us/step - loss: 0.0030 - acc: 0.9991 - val_loss: 0.0420 - val_acc: 0.9919\n",
            "Epoch 23/30\n",
            "60000/60000 [==============================] - 15s 242us/step - loss: 0.0038 - acc: 0.9987 - val_loss: 0.0480 - val_acc: 0.9916\n",
            "Epoch 24/30\n",
            "60000/60000 [==============================] - 15s 243us/step - loss: 0.0036 - acc: 0.9990 - val_loss: 0.0387 - val_acc: 0.9921\n",
            "Epoch 25/30\n",
            "60000/60000 [==============================] - 16s 260us/step - loss: 0.0032 - acc: 0.9990 - val_loss: 0.0480 - val_acc: 0.9916\n",
            "Epoch 26/30\n",
            "60000/60000 [==============================] - 16s 271us/step - loss: 0.0036 - acc: 0.9989 - val_loss: 0.0407 - val_acc: 0.9910\n",
            "Epoch 27/30\n",
            "60000/60000 [==============================] - 15s 254us/step - loss: 0.0029 - acc: 0.9992 - val_loss: 0.0481 - val_acc: 0.9908\n",
            "Epoch 28/30\n",
            "60000/60000 [==============================] - 15s 242us/step - loss: 0.0029 - acc: 0.9992 - val_loss: 0.0487 - val_acc: 0.9919\n",
            "Epoch 29/30\n",
            "60000/60000 [==============================] - 14s 241us/step - loss: 0.0034 - acc: 0.9990 - val_loss: 0.0487 - val_acc: 0.9917\n",
            "Epoch 30/30\n",
            "60000/60000 [==============================] - 15s 256us/step - loss: 0.0027 - acc: 0.9993 - val_loss: 0.0520 - val_acc: 0.9924\n"
          ],
          "name": "stdout"
        },
        {
          "output_type": "execute_result",
          "data": {
            "text/plain": [
              "<tensorflow.python.keras.callbacks.History at 0x1c917027e48>"
            ]
          },
          "metadata": {
            "tags": []
          },
          "execution_count": 11
        }
      ]
    }
  ]
}